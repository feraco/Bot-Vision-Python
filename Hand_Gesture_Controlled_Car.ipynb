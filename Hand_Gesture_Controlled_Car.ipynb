{
 "cells": [
  {
   "cell_type": "markdown",
   "id": "5829dfd8",
   "metadata": {},
   "source": [
    "\n",
    "# Hand Gesture Controlled Car\n",
    "\n",
    "This notebook explores using hand gestures detected through a camera stream to control a remote car. By utilizing a hand detection module and processing the video stream, specific hand gestures can correspond to car movements such as moving forward, backward, turning left, or right.\n",
    "    "
   ]
  },
  {
   "cell_type": "code",
   "execution_count": null,
   "id": "cef03b75",
   "metadata": {},
   "outputs": [],
   "source": [
    "\n",
    "import cv2\n",
    "import numpy as np\n",
    "import socket\n",
    "import json\n",
    "import time\n",
    "import requests\n",
    "from utils.HandTrackingModule import HandDetector\n",
    "    "
   ]
  },
  {
   "cell_type": "markdown",
   "id": "cea7555a",
   "metadata": {},
   "source": [
    "\n",
    "## Initializing the Hand Detector\n",
    "\n",
    "We initialize the hand detector to recognize hands in the video stream, configuring it to detect a maximum of two hands with a certain detection confidence level.\n",
    "    "
   ]
  },
  {
   "cell_type": "code",
   "execution_count": null,
   "id": "fea75373",
   "metadata": {},
   "outputs": [],
   "source": [
    "\n",
    "detectorH = HandDetector(maxHands=2, detectionCon=0.8)\n",
    "    "
   ]
  },
  {
   "cell_type": "markdown",
   "id": "b8d03f47",
   "metadata": {},
   "source": [
    "\n",
    "## Configuring Streaming and Control Parameters\n",
    "\n",
    "Set the stream URL for the car's camera and define the car's control interface (IP and port).\n",
    "    "
   ]
  },
  {
   "cell_type": "code",
   "execution_count": null,
   "id": "d9583c69",
   "metadata": {},
   "outputs": [],
   "source": [
    "\n",
    "stream_url = \"http://192.168.4.1:81/stream\"\n",
    "IP = \"192.168.4.1\"\n",
    "PORT = 100\n",
    "    "
   ]
  },
  {
   "cell_type": "markdown",
   "id": "b60057c6",
   "metadata": {},
   "source": [
    "\n",
    "## Sending Commands to the Car\n",
    "\n",
    "A function to package and send control commands to the car via a TCP socket.\n",
    "    "
   ]
  },
  {
   "cell_type": "code",
   "execution_count": null,
   "id": "ae46bab2",
   "metadata": {},
   "outputs": [],
   "source": [
    "\n",
    "def send_command(command):\n",
    "    with socket.socket(socket.AF_INET, socket.SOCK_STREAM) as sock:\n",
    "        sock.connect((IP, PORT))\n",
    "        sock.sendall(json.dumps(command).encode())\n",
    "        time.sleep(0.5)\n",
    "    "
   ]
  },
  {
   "cell_type": "markdown",
   "id": "819d73ae",
   "metadata": {},
   "source": [
    "\n",
    "## Processing the Camera Stream\n",
    "\n",
    "Extract frames from the camera stream, detect hands and interpret hand gestures to control the car's movements.\n",
    "    "
   ]
  },
  {
   "cell_type": "code",
   "execution_count": null,
   "id": "aedc4f32",
   "metadata": {},
   "outputs": [],
   "source": [
    "\n",
    "session = requests.Session()\n",
    "response = session.get(stream_url, stream=True)\n",
    "\n",
    "if response.status_code == 200:\n",
    "    bytes_data = bytes()\n",
    "    while True:\n",
    "        chunk = response.raw.read(1024)\n",
    "        if not chunk:\n",
    "            break\n",
    "        bytes_data += chunk\n",
    "        a = bytes_data.find(b'ÿØ')\n",
    "        b = bytes_data.find(b'ÿÙ')\n",
    "        while a != -1 and b != -1:\n",
    "            jpg = bytes_data[a:b+2]\n",
    "            bytes_data = bytes_data[b+2:]\n",
    "            img = cv2.imdecode(np.frombuffer(jpg, dtype=np.uint8), cv2.IMREAD_COLOR)\n",
    "            \n",
    "            if img is not None:\n",
    "                img = detectorH.findHands(img)\n",
    "                lmList, bbox = detectorH.findPosition(img, draw=True)\n",
    "                if bbox:\n",
    "                    fingers = detectorH.fingersUp()\n",
    "                    # Gesture control logic\n",
    "\n",
    "                cv2.imshow('Elegoo Smart Car Camera Stream', img)\n",
    "                if cv2.waitKey(1) & 0xFF == ord('q'):\n",
    "                    break\n",
    "\n",
    "            a = bytes_data.find(b'ÿØ')\n",
    "            b = bytes_data.find(b'ÿÙ')\n",
    "\n",
    "cv2.destroyAllWindows()\n",
    "    "
   ]
  },
  {
   "cell_type": "markdown",
   "id": "861e15e0",
   "metadata": {},
   "source": [
    "\n",
    "## Student Exercises\n",
    "\n",
    "1. **Add More Gestures**: Extend the gesture recognition to include more hand gestures for additional car controls.\n",
    "\n",
    "2. **Gesture-Based Speed Control**: Implement variable speed control based on the gesture's intensity or duration.\n",
    "\n",
    "3. **Error Handling for Commands**: Improve the robustness of command sending with error handling and reconnection strategies.\n",
    "\n",
    "4. **Visual Feedback**: Enhance the visual feedback in the video stream display for detected gestures and car responses.\n",
    "    "
   ]
  }
 ],
 "metadata": {},
 "nbformat": 4,
 "nbformat_minor": 5
}
