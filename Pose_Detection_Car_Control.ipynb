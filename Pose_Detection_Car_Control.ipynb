{
 "cells": [
  {
   "cell_type": "markdown",
   "id": "83a7aaf3",
   "metadata": {},
   "source": [
    "\n",
    "# Real-time Pose Detection for Car Control\n",
    "\n",
    "This notebook demonstrates how to use real-time pose detection from a camera stream to control a remote car's movements. Utilizing OpenCV and a custom pose detection module, we can interpret specific poses as commands to move the car in different directions.\n",
    "    "
   ]
  },
  {
   "cell_type": "code",
   "execution_count": null,
   "id": "b003936d",
   "metadata": {},
   "outputs": [],
   "source": [
    "\n",
    "import cv2\n",
    "import numpy as np\n",
    "import socket\n",
    "import json\n",
    "import time\n",
    "import requests\n",
    "from utils.PoseDetectorModule import PoseDetector\n",
    "    "
   ]
  },
  {
   "cell_type": "markdown",
   "id": "b59d907b",
   "metadata": {},
   "source": [
    "\n",
    "## Initializing the Pose Detector\n",
    "\n",
    "We start by initializing the pose detector, specifying that we're interested in detecting upper body poses.\n",
    "    "
   ]
  },
  {
   "cell_type": "code",
   "execution_count": null,
   "id": "4245297e",
   "metadata": {},
   "outputs": [],
   "source": [
    "\n",
    "detector = PoseDetector(upBody=True)\n",
    "    "
   ]
  },
  {
   "cell_type": "markdown",
   "id": "bb1b0c1a",
   "metadata": {},
   "source": [
    "\n",
    "## Setting Up Streaming and Car Control\n",
    "\n",
    "Next, we set up the stream URL for the car's camera and define the car's IP address and port for sending control commands.\n",
    "    "
   ]
  },
  {
   "cell_type": "code",
   "execution_count": null,
   "id": "bef61135",
   "metadata": {},
   "outputs": [],
   "source": [
    "\n",
    "stream_url = \"http://192.168.4.1:81/stream\"\n",
    "IP = \"192.168.4.1\"\n",
    "PORT = 100\n",
    "    "
   ]
  },
  {
   "cell_type": "markdown",
   "id": "719b6363",
   "metadata": {},
   "source": [
    "\n",
    "## Function to Send Commands to the Car\n",
    "\n",
    "This function simplifies sending commands to the car by wrapping the socket connection logic.\n",
    "    "
   ]
  },
  {
   "cell_type": "code",
   "execution_count": null,
   "id": "8ca73f39",
   "metadata": {},
   "outputs": [],
   "source": [
    "\n",
    "def send_command(command):\n",
    "    with socket.socket(socket.AF_INET, socket.SOCK_STREAM) as sock:\n",
    "        sock.connect((IP, PORT))\n",
    "        sock.sendall(json.dumps(command).encode())\n",
    "        time.sleep(0.5)\n",
    "    "
   ]
  },
  {
   "cell_type": "markdown",
   "id": "be0b6ca9",
   "metadata": {},
   "source": [
    "\n",
    "## Processing the Camera Stream for Pose Detection\n",
    "\n",
    "We access the camera stream using a `requests` session. Each frame is processed to detect poses, and specific poses trigger car movement commands.\n",
    "    "
   ]
  },
  {
   "cell_type": "code",
   "execution_count": null,
   "id": "e3679302",
   "metadata": {},
   "outputs": [],
   "source": [
    "\n",
    "# Start streaming session\n",
    "session = requests.Session()\n",
    "response = session.get(stream_url, stream=True)\n",
    "\n",
    "if response.status_code == 200:\n",
    "    bytes_data = bytes()\n",
    "    while True:\n",
    "        chunk = response.raw.read(1024)\n",
    "        if not chunk:\n",
    "            break\n",
    "        bytes_data += chunk\n",
    "        a = bytes_data.find(b'ÿØ')  # JPEG start\n",
    "        b = bytes_data.find(b'ÿÙ')  # JPEG end\n",
    "        while a != -1 and b != -1:\n",
    "            jpg = bytes_data[a:b+2]\n",
    "            bytes_data = bytes_data[b+2:]\n",
    "            img = cv2.imdecode(np.frombuffer(jpg, dtype=np.uint8), cv2.IMREAD_COLOR)\n",
    "            \n",
    "            if img is not None:\n",
    "                img = cv2.flip(img, 1)\n",
    "                img = detector.findPose(img, draw=True)\n",
    "                lmList, bboxInfo = detector.findPosition(img, draw=True)\n",
    "\n",
    "                # Processing and sending commands based on detected poses\n",
    "                # Add your pose detection logic here\n",
    "\n",
    "                cv2.imshow('Elegoo Smart Car Camera Stream', img)\n",
    "                if cv2.waitKey(1) & 0xFF == ord('q'):\n",
    "                    break\n",
    "\n",
    "            a = bytes_data.find(b'ÿØ')\n",
    "            b = bytes_data.find(b'ÿÙ')\n",
    "\n",
    "cv2.destroyAllWindows()\n",
    "    "
   ]
  },
  {
   "cell_type": "markdown",
   "id": "fa0c7218",
   "metadata": {},
   "source": [
    "\n",
    "## Exercises for Students\n",
    "\n",
    "1. **Enhance Pose Detection**: Experiment with detecting different poses and associating them with unique car movements or actions.\n",
    "\n",
    "2. **Integrate Additional Commands**: Based on the detected poses, create more complex sequences of commands for the car to execute.\n",
    "\n",
    "3. **Optimize Command Timing**: Fine-tune the sleep durations and command parameters to achieve smoother car control.\n",
    "\n",
    "4. **User Interface for Monitoring**: Develop a simple UI to display the detected poses and the commands being sent to the car in real-time.\n",
    "    "
   ]
  }
 ],
 "metadata": {},
 "nbformat": 4,
 "nbformat_minor": 5
}
