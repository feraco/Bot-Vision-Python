from nbformat import v4 as nbf

# Create a new Jupyter Notebook
nb = nbf.new_notebook()

# Add cells to the notebook
nb['cells'] = [
    # Introduction
    nbf.new_markdown_cell("""
# Controlling a Remote Car with Python

This notebook demonstrates how to control a remote-controlled car using Python. We will establish a TCP connection to the car and send it a command to move forward. This example provides a foundation for more complex operations, such as creating a user interface for controlling the car in different directions or integrating sensor data for autonomous navigation.
    """),
    # Import Libraries
    nbf.new_code_cell("""
import socket
import json
import time
    """),
    # Setting Up Connection Parameters
    nbf.new_markdown_cell("""
## Setting Up Connection Parameters

Before sending commands to the car, we need to define the IP address and port number that the car's server is listening to. This information allows our Python script to establish a connection with the car. Replace the `ip` and `port` values with the appropriate values for your setup.
    """),
    # Define IP and Port
    nbf.new_code_cell("""
# Set the IP and port for the car
ip = "192.168.4.1"
port = 100
    """),
    # Defining the Command
    nbf.new_markdown_cell("""
## Defining the Command

Next, we define a command in the form of a Python dictionary. This command will instruct the car to move in a specific direction at a certain speed for a set amount of time. The parameters can be adjusted based on the requirements. Here, we are setting the car to move forward.
    """),
    # Define Command
    nbf.new_code_cell("""
# Define the command to move the car forward for 5 seconds at speed 150
command = {
    "N": 2,  # Car control mode with time limit
    "D1": 3,  # Direction (1 for forward, 2 for backward, adjust as needed)
    "D2": 150,  # Speed (0-255)
    "T": 5000  # Time in milliseconds
}
    """),
    # Establish Connection and Send Command
    nbf.new_markdown_cell("""
## Establish Connection and Send Command

With the command defined, we'll convert it to a JSON string, create a socket, and establish a connection to the car's server. After sending the command, we'll wait for the duration specified in the command before closing the socket.
    """),
    # Send Command
    nbf.new_code_cell("""
# Convert the command to a JSON string
json_command = json.dumps(command)

# Create a TCP/IP socket
sock = socket.socket(socket.AF_INET, socket.SOCK_STREAM)

# Connect the socket to the port where the server is listening
server_address = (ip, port)
print(f"Connecting to {ip} port {port}")
sock.connect(server_address)

try:
    # Send data
    print(f"Sending command: {json_command}")
    sock.sendall(json_command.encode())

    # Wait for the command to complete
    time.sleep(command["T"] / 1000)

finally:
    print("Closing socket")
    sock.close()
    """),
    # Extending the Project
    nbf.new_markdown_cell("""
## Extending the Project

This example is a starting point for more complex projects. Here are some ideas for extending the functionality:

- **Control Multiple Directions**: Add commands for turning the car left, right, and moving backward.
- **Real-Time Control**: Create a user interface with buttons for real-time control of the car.
- **Autonomous Navigation**: Integrate sensors with the car and develop algorithms for autonomous navigation.
- **Speed Control**: Add functionality to adjust the car's speed dynamically based on sensor input or user input.

Feel free to modify the command parameters and experiment with different movements and behaviors.
    """)
]

# Save the notebook
notebook_path = '/mnt/data/Remote_Car_Control.ipynb'
with open(notebook_path, 'w') as f:
    nbf.write(nb, f)

notebook_path
