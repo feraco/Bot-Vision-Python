{
 "cells": [
  {
   "cell_type": "markdown",
   "id": "a7863370",
   "metadata": {},
   "source": [
    "\n",
    "# Controlling a Remote Car with Python\n",
    "\n",
    "This notebook demonstrates how to control a remote-controlled car using Python. We will establish a TCP connection to the car and send it a command to move forward. This example provides a foundation for more complex operations, such as creating a user interface for controlling the car in different directions or integrating sensor data for autonomous navigation.\n",
    "    "
   ]
  },
  {
   "cell_type": "code",
   "execution_count": null,
   "id": "211c8a5e",
   "metadata": {},
   "outputs": [],
   "source": [
    "\n",
    "import socket\n",
    "import json\n",
    "import time\n",
    "    "
   ]
  },
  {
   "cell_type": "markdown",
   "id": "0a3f53d3",
   "metadata": {},
   "source": [
    "\n",
    "## Setting Up Connection Parameters\n",
    "\n",
    "Before sending commands to the car, we need to define the IP address and port number that the car's server is listening to. This information allows our Python script to establish a connection with the car. Replace the `ip` and `port` values with the appropriate values for your setup.\n",
    "    "
   ]
  },
  {
   "cell_type": "code",
   "execution_count": null,
   "id": "90a55615",
   "metadata": {},
   "outputs": [],
   "source": [
    "\n",
    "# Set the IP and port for the car\n",
    "ip = \"192.168.4.1\"\n",
    "port = 100\n",
    "    "
   ]
  },
  {
   "cell_type": "markdown",
   "id": "63e4942e",
   "metadata": {},
   "source": [
    "\n",
    "## Defining the Command\n",
    "\n",
    "Next, we define a command in the form of a Python dictionary. This command will instruct the car to move in a specific direction at a certain speed for a set amount of time. The parameters can be adjusted based on the requirements. Here, we are setting the car to move forward.\n",
    "    "
   ]
  },
  {
   "cell_type": "code",
   "execution_count": null,
   "id": "a52413a3",
   "metadata": {},
   "outputs": [],
   "source": [
    "\n",
    "# Define the command to move the car forward for 5 seconds at speed 150\n",
    "command = {\n",
    "    \"N\": 2,  # Car control mode with time limit\n",
    "    \"D1\": 3,  # Direction (1 for forward, 2 for backward, adjust as needed)\n",
    "    \"D2\": 150,  # Speed (0-255)\n",
    "    \"T\": 5000  # Time in milliseconds\n",
    "}\n",
    "    "
   ]
  },
  {
   "cell_type": "markdown",
   "id": "ae6f9636",
   "metadata": {},
   "source": [
    "\n",
    "## Establish Connection and Send Command\n",
    "\n",
    "With the command defined, we'll convert it to a JSON string, create a socket, and establish a connection to the car's server. After sending the command, we'll wait for the duration specified in the command before closing the socket.\n",
    "    "
   ]
  },
  {
   "cell_type": "code",
   "execution_count": null,
   "id": "7f3a0a2d",
   "metadata": {},
   "outputs": [],
   "source": [
    "\n",
    "# Convert the command to a JSON string\n",
    "json_command = json.dumps(command)\n",
    "\n",
    "# Create a TCP/IP socket\n",
    "sock = socket.socket(socket.AF_INET, socket.SOCK_STREAM)\n",
    "\n",
    "# Connect the socket to the port where the server is listening\n",
    "server_address = (ip, port)\n",
    "print(f\"Connecting to {ip} port {port}\")\n",
    "sock.connect(server_address)\n",
    "\n",
    "try:\n",
    "    # Send data\n",
    "    print(f\"Sending command: {json_command}\")\n",
    "    sock.sendall(json_command.encode())\n",
    "\n",
    "    # Wait for the command to complete\n",
    "    time.sleep(command[\"T\"] / 1000)\n",
    "\n",
    "finally:\n",
    "    print(\"Closing socket\")\n",
    "    sock.close()\n",
    "    "
   ]
  },
  {
   "cell_type": "markdown",
   "id": "56c20eb9",
   "metadata": {},
   "source": [
    "\n",
    "## Extending the Project\n",
    "\n",
    "This example is a starting point for more complex projects. Here are some ideas for extending the functionality:\n",
    "\n",
    "- **Control Multiple Directions**: Add commands for turning the car left, right, and moving backward.\n",
    "- **Real-Time Control**: Create a user interface with buttons for real-time control of the car.\n",
    "- **Autonomous Navigation**: Integrate sensors with the car and develop algorithms for autonomous navigation.\n",
    "- **Speed Control**: Add functionality to adjust the car's speed dynamically based on sensor input or user input.\n",
    "\n",
    "Feel free to modify the command parameters and experiment with different movements and behaviors.\n",
    "    "
   ]
  }
 ],
 "metadata": {},
 "nbformat": 4,
 "nbformat_minor": 5
}
