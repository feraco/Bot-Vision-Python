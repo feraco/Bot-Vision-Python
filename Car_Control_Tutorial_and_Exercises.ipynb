{
 "cells": [
  {
   "cell_type": "markdown",
   "id": "6e30af05",
   "metadata": {},
   "source": [
    "\n",
    "# Advanced Car Control via Python\n",
    "\n",
    "This notebook guides you through sending commands to a remote-controlled car using Python, covering movement, lighting, and sensor interactions. You'll learn how to create functions for various car controls, including movement, lighting effects, and sensor data processing.\n",
    "    "
   ]
  },
  {
   "cell_type": "code",
   "execution_count": null,
   "id": "cfacf6b4",
   "metadata": {},
   "outputs": [],
   "source": [
    "\n",
    "import socket\n",
    "import json\n",
    "import time\n",
    "    "
   ]
  },
  {
   "cell_type": "markdown",
   "id": "2e232ae9",
   "metadata": {},
   "source": [
    "\n",
    "## Setting Up Global Variables\n",
    "\n",
    "First, we define global variables for the car's IP address and port. These variables are essential for establishing a connection to the car's server.\n",
    "    "
   ]
  },
  {
   "cell_type": "code",
   "execution_count": null,
   "id": "115c9de0",
   "metadata": {},
   "outputs": [],
   "source": [
    "\n",
    "ip = \"192.168.4.1\"\n",
    "port = 100\n",
    "    "
   ]
  },
  {
   "cell_type": "markdown",
   "id": "e53ed2ac",
   "metadata": {},
   "source": [
    "\n",
    "## Function to Send Commands to the Car\n",
    "\n",
    "The `create_socket_and_send` function encapsulates the process of creating a socket, sending a JSON command, and closing the connection. This function simplifies the process of communicating commands to the car.\n",
    "    "
   ]
  },
  {
   "cell_type": "code",
   "execution_count": null,
   "id": "652e9dca",
   "metadata": {},
   "outputs": [],
   "source": [
    "\n",
    "def create_socket_and_send(json_command):\n",
    "    with socket.socket(socket.AF_INET, socket.SOCK_STREAM) as sock:\n",
    "        sock.connect((ip, port))\n",
    "        print(f\"Sending command: {json_command}\")\n",
    "        sock.sendall(json_command.encode())\n",
    "        time.sleep(0.5)\n",
    "    "
   ]
  },
  {
   "cell_type": "markdown",
   "id": "c63777a6",
   "metadata": {},
   "source": [
    "\n",
    "## Movement Commands\n",
    "\n",
    "Next, we define functions for basic movements: moving forward, backward, turning left, and turning right. Each function constructs a command with specified duration and speed, then sends it using `create_socket_and_send`.\n",
    "    "
   ]
  },
  {
   "cell_type": "code",
   "execution_count": null,
   "id": "674fee74",
   "metadata": {},
   "outputs": [],
   "source": [
    "\n",
    "def move_forward(duration_ms, speed):\n",
    "    command = {\"N\": 2, \"D1\": 1, \"D2\": speed, \"T\": duration_ms}\n",
    "    create_socket_and_send(json.dumps(command))\n",
    "\n",
    "def move_backward(duration_ms, speed):\n",
    "    command = {\"N\": 2, \"D1\": 2, \"D2\": speed, \"T\": duration_ms}\n",
    "    create_socket_and_send(json.dumps(command))\n",
    "\n",
    "def turn_left(duration_ms, speed):\n",
    "    command = {\"N\": 2, \"D1\": 3, \"D2\": speed, \"T\": duration_ms}\n",
    "    create_socket_and_send(json.dumps(command))\n",
    "\n",
    "def turn_right(duration_ms, speed):\n",
    "    command = {\"N\": 2, \"D1\": 4, \"D2\": speed, \"T\": duration_ms}\n",
    "    create_socket_and_send(json.dumps(command))\n",
    "    "
   ]
  },
  {
   "cell_type": "markdown",
   "id": "8c549fc3",
   "metadata": {},
   "source": [
    "\n",
    "## Lighting and Sensor Commands\n",
    "\n",
    "These functions control the car's lighting and sensors. You can customize lighting colors, durations, and manage sensor modes for tasks like obstacle avoidance or line tracking.\n",
    "    "
   ]
  },
  {
   "cell_type": "code",
   "execution_count": null,
   "id": "d642746e",
   "metadata": {},
   "outputs": [],
   "source": [
    "\n",
    "def lighting_control_timed(sequence, red, green, blue, duration_ms):\n",
    "    command = {\"N\": 7, \"D1\": sequence, \"D2\": red, \"D3\": green, \"D4\": blue, \"T\": duration_ms}\n",
    "    create_socket_and_send(json.dumps(command))\n",
    "\n",
    "def switch_car_mode(mode):\n",
    "    command = {\"N\": 101, \"D1\": mode}\n",
    "    create_socket_and_send(json.dumps(command))\n",
    "    "
   ]
  },
  {
   "cell_type": "markdown",
   "id": "96b68df3",
   "metadata": {},
   "source": [
    "\n",
    "## Exercises for Students\n",
    "\n",
    "1. **Custom Movement Pattern**: Combine the movement functions to create a custom movement pattern for the car. For example, make the car move in a square pattern.\n",
    "\n",
    "2. **Light Show**: Use the `lighting_control_timed` function to create a light show. Sequence different colors and timings to make the lights change in an entertaining pattern.\n",
    "\n",
    "3. **Sensor Integration**: If your car supports sensors, use the `switch_car_mode` function to change between different modes, such as obstacle avoidance or line tracking. Experiment with these modes to see how the car behaves autonomously.\n",
    "\n",
    "4. **Enhanced Control Logic**: Implement a control logic that uses sensor data to make decisions. For example, if the car is in obstacle avoidance mode, program it to perform a specific action when it detects an obstacle.\n",
    "    "
   ]
  },
  {
   "cell_type": "code",
   "execution_count": null,
   "id": "90f6fcaf",
   "metadata": {},
   "outputs": [],
   "source": [
    "\n",
    "# Example usage\n",
    "if __name__ == \"__main__\":\n",
    "    # Move forward for 2 seconds at speed 150\n",
    "    move_forward(2000, 150)\n",
    "    # Turn left for 1 second at speed 100\n",
    "    turn_left(1000, 100)\n",
    "    # Enter standby mode after 10 seconds\n",
    "    time.sleep(10)\n",
    "    enter_standby_mode()\n",
    "    "
   ]
  }
 ],
 "metadata": {},
 "nbformat": 4,
 "nbformat_minor": 5
}
