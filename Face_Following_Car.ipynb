{
 "cells": [
  {
   "cell_type": "markdown",
   "id": "37e67959",
   "metadata": {},
   "source": [
    "\n",
    "# Face Following Car\n",
    "\n",
    "This notebook outlines how to create a face following system for a remote car. By employing face detection algorithms, the car can adjust its movements to follow a person's face within the camera's field of view.\n",
    "    "
   ]
  },
  {
   "cell_type": "code",
   "execution_count": null,
   "id": "ac9e4dec",
   "metadata": {},
   "outputs": [],
   "source": [
    "\n",
    "import cv2\n",
    "import numpy as np\n",
    "import socket\n",
    "import json\n",
    "import time\n",
    "import requests\n",
    "    "
   ]
  },
  {
   "cell_type": "markdown",
   "id": "97ed5832",
   "metadata": {},
   "source": [
    "\n",
    "## Loading the Face Detection Model\n",
    "\n",
    "We will use OpenCV's built-in Haar Cascade Classifier for face detection. This model is lightweight and suitable for real-time applications.\n",
    "    "
   ]
  },
  {
   "cell_type": "code",
   "execution_count": null,
   "id": "f6954a8d",
   "metadata": {},
   "outputs": [],
   "source": [
    "\n",
    "face_cascade = cv2.CascadeClassifier(cv2.data.haarcascades + 'haarcascade_frontalface_default.xml')\n",
    "    "
   ]
  },
  {
   "cell_type": "markdown",
   "id": "e7c2bd30",
   "metadata": {},
   "source": [
    "\n",
    "## Car Control Interface Configuration\n",
    "\n",
    "Configure the car's IP address and port for sending control commands.\n",
    "    "
   ]
  },
  {
   "cell_type": "code",
   "execution_count": null,
   "id": "812b0eda",
   "metadata": {},
   "outputs": [],
   "source": [
    "\n",
    "IP = \"192.168.4.1\"\n",
    "PORT = 100\n",
    "    "
   ]
  },
  {
   "cell_type": "markdown",
   "id": "71ac84b6",
   "metadata": {},
   "source": [
    "\n",
    "## Function for Sending Commands to the Car\n",
    "\n",
    "This function sends commands to the car via a socket connection, allowing for real-time control based on face position.\n",
    "    "
   ]
  },
  {
   "cell_type": "code",
   "execution_count": null,
   "id": "4b8de830",
   "metadata": {},
   "outputs": [],
   "source": [
    "\n",
    "def send_command(command):\n",
    "    with socket.socket(socket.AF_INET, socket.SOCK_STREAM) as sock:\n",
    "        sock.connect((IP, PORT))\n",
    "        sock.sendall(json.dumps(command).encode())\n",
    "        time.sleep(0.5)\n",
    "    "
   ]
  },
  {
   "cell_type": "markdown",
   "id": "a87be9f5",
   "metadata": {},
   "source": [
    "\n",
    "## Processing the Camera Stream for Face Detection\n",
    "\n",
    "Extract frames from the camera stream, detect faces, and control the car to follow the detected face.\n",
    "    "
   ]
  },
  {
   "cell_type": "code",
   "execution_count": null,
   "id": "72626058",
   "metadata": {},
   "outputs": [],
   "source": [
    "\n",
    "stream_url = \"http://192.168.4.1:81/stream\"\n",
    "session = requests.Session()\n",
    "response = session.get(stream_url, stream=True)\n",
    "\n",
    "if response.status_code == 200:\n",
    "    bytes_data = bytes()\n",
    "    while True:\n",
    "        chunk = response.raw.read(1024)\n",
    "        if not chunk:\n",
    "            break\n",
    "        bytes_data += chunk\n",
    "        a = bytes_data.find(b'ÿØ')\n",
    "        b = bytes_data.find(b'ÿÙ')\n",
    "        while a != -1 and b != -1:\n",
    "            jpg = bytes_data[a:b+2]\n",
    "            bytes_data = bytes_data[b+2:]\n",
    "            img = cv2.imdecode(np.frombuffer(jpg, dtype=np.uint8), cv2.IMREAD_COLOR)\n",
    "            \n",
    "            if img is not None:\n",
    "                gray = cv2.cvtColor(img, cv2.COLOR_BGR2GRAY)\n",
    "                faces = face_cascade.detectMultiScale(gray, 1.1, 4)\n",
    "                for (x, y, w, h) in faces:\n",
    "                    cv2.rectangle(img, (x, y), (x+w, y+h), (255, 0, 0), 2)\n",
    "                    # Face follow logic based on face position\n",
    "\n",
    "                cv2.imshow('Face Following Car Camera Stream', img)\n",
    "                if cv2.waitKey(1) & 0xFF == ord('q'):\n",
    "                    break\n",
    "\n",
    "            a = bytes_data.find(b'ÿØ')\n",
    "            b = bytes_data.find(b'ÿÙ')\n",
    "\n",
    "cv2.destroyAllWindows()\n",
    "    "
   ]
  },
  {
   "cell_type": "markdown",
   "id": "b10e6b9d",
   "metadata": {},
   "source": [
    "\n",
    "## Student Exercises\n",
    "\n",
    "1. **Implement Face Follow Logic**: Develop the logic to move the car based on the position of the detected face in the camera's field of view. Consider moving forward, backward, and turning to keep the face centered.\n",
    "\n",
    "2. **Optimize Face Detection**: Experiment with different parameters for the face detection function to improve accuracy and reduce false positives.\n",
    "\n",
    "3. **Integrate Additional Features**: Explore adding more features such as stopping the car if the face is too close, or executing pre-defined maneuvers when the face disappears from view.\n",
    "\n",
    "4. **Enhance User Interaction**: Create a user-friendly interface or feedback system that indicates the car's current state and actions to the user.\n",
    "    "
   ]
  }
 ],
 "metadata": {},
 "nbformat": 4,
 "nbformat_minor": 5
}
