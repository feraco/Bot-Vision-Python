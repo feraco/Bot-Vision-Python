{
 "cells": [
  {
   "cell_type": "markdown",
   "id": "397b3762",
   "metadata": {},
   "source": [
    "\n",
    "# Sequential Command Execution for Car Control\n",
    "\n",
    "In this notebook, we'll demonstrate how to send a sequence of commands to control a remote car using Python. This approach allows for executing a series of actions, such as moving in a specific pattern or navigating a course.\n",
    "    "
   ]
  },
  {
   "cell_type": "code",
   "execution_count": null,
   "id": "b4ff9f4e",
   "metadata": {},
   "outputs": [],
   "source": [
    "\n",
    "import socket\n",
    "import json\n",
    "import time\n",
    "    "
   ]
  },
  {
   "cell_type": "markdown",
   "id": "df4fc6ab",
   "metadata": {},
   "source": [
    "\n",
    "## Configuring the Car's Connection Parameters\n",
    "\n",
    "To communicate with the car, we first set up the IP address and port number. These values should match the car's server settings.\n",
    "    "
   ]
  },
  {
   "cell_type": "code",
   "execution_count": null,
   "id": "62455439",
   "metadata": {},
   "outputs": [],
   "source": [
    "\n",
    "ip = \"192.168.4.1\"\n",
    "port = 100\n",
    "    "
   ]
  },
  {
   "cell_type": "markdown",
   "id": "0b6ebdb2",
   "metadata": {},
   "source": [
    "\n",
    "## Defining Multiple Commands\n",
    "\n",
    "We can define a series of commands to control the car's movements. Each command includes parameters for the action type, direction, speed, and duration.\n",
    "    "
   ]
  },
  {
   "cell_type": "code",
   "execution_count": null,
   "id": "0ae5ce39",
   "metadata": {},
   "outputs": [],
   "source": [
    "\n",
    "commands = [\n",
    "    {\"N\": 2, \"D1\": 3, \"D2\": 150, \"T\": 5000},  # Example command 1\n",
    "    {\"N\": 2, \"D1\": 1, \"D2\": 100, \"T\": 3000},  # Example command 2\n",
    "    {\"N\": 2, \"D1\": 2, \"D2\": 100, \"T\": 1000}   # Example command 3\n",
    "]\n",
    "    "
   ]
  },
  {
   "cell_type": "markdown",
   "id": "26e03c6a",
   "metadata": {},
   "source": [
    "\n",
    "## Function to Send Commands\n",
    "\n",
    "The `send_command` function sends individual commands to the car. It establishes a socket connection, sends the command, and waits for the action to complete before closing the connection.\n",
    "    "
   ]
  },
  {
   "cell_type": "code",
   "execution_count": null,
   "id": "ea9a4590",
   "metadata": {},
   "outputs": [],
   "source": [
    "\n",
    "def send_command(command):\n",
    "    json_command = json.dumps(command)\n",
    "    with socket.socket(socket.AF_INET, socket.SOCK_STREAM) as sock:\n",
    "        server_address = (ip, port)\n",
    "        print(f\"Connecting to {ip} port {port}\")\n",
    "        sock.connect(server_address)\n",
    "        print(f\"Sending command: {json_command}\")\n",
    "        sock.sendall(json_command.encode())\n",
    "        time.sleep(command[\"T\"] / 1000)\n",
    "    "
   ]
  },
  {
   "cell_type": "markdown",
   "id": "2ef872f9",
   "metadata": {},
   "source": [
    "\n",
    "## Executing the Commands Sequentially\n",
    "\n",
    "By iterating over the `commands` list, we can execute each command in sequence. This allows for complex maneuvers and patterns.\n",
    "    "
   ]
  },
  {
   "cell_type": "code",
   "execution_count": null,
   "id": "30559c9f",
   "metadata": {},
   "outputs": [],
   "source": [
    "\n",
    "for command in commands:\n",
    "    try:\n",
    "        send_command(command)\n",
    "    except BrokenPipeError as e:\n",
    "        print(f\"Failed to send command: {e}\")\n",
    "    except Exception as e:\n",
    "        print(f\"An error occurred: {e}\")\n",
    "    "
   ]
  },
  {
   "cell_type": "markdown",
   "id": "36651ede",
   "metadata": {},
   "source": [
    "\n",
    "## Exercises for Students\n",
    "\n",
    "1. **Create a Custom Command Sequence**: Define your own sequence of commands to make the car perform a specific pattern or task. For example, navigate a simple obstacle course laid out on the ground.\n",
    "\n",
    "2. **Error Handling**: Improve the error handling in the `send_command` function. Consider scenarios such as timeouts, disconnections, or unresponsive car servers.\n",
    "\n",
    "3. **Command Optimization**: Experiment with the command parameters to find the most efficient way to complete a given task or pattern. For instance, determine the optimal speed and turn angles for a quick obstacle course run.\n",
    "\n",
    "4. **Feedback Loop**: If possible, integrate feedback from the car (such as sensors) to adjust the commands in real-time. This could involve modifying the command sequence based on obstacles detected by the car.\n",
    "    "
   ]
  }
 ],
 "metadata": {},
 "nbformat": 4,
 "nbformat_minor": 5
}
